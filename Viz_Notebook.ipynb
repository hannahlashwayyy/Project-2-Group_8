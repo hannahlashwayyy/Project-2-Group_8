{
 "cells": [
  {
   "cell_type": "code",
   "execution_count": null,
   "id": "beb2c5c2-38cf-4d78-a4f9-3a31004adff3",
   "metadata": {},
   "outputs": [],
   "source": [
    "# for database connections\n",
    "import sqlalchemy\n",
    "from sqlalchemy import create_engine, inspect, text\n",
    "\n",
    "# data\n",
    "import pandas as pd\n",
    "import numpy as np\n",
    "\n",
    "# viz\n",
    "import seaborn as sns\n",
    "import matplotlib.pyplot as plt"
   ]
  },
  {
   "cell_type": "code",
   "execution_count": null,
   "id": "ef7bcf27-2a95-4901-b58c-23a4507c7082",
   "metadata": {},
   "outputs": [],
   "source": [
    "SQL_USERNAME = \"postgres\"\n",
    "SQL_PASSWORD = \"Ollie!0515\" # change this\n",
    "SQL_IP = \"localhost\"\n",
    "PORT = 5432\n",
    "DATABASE = \"Project_2_group_08\" # change this"
   ]
  },
  {
   "cell_type": "code",
   "execution_count": null,
   "id": "fcec2715-fdb7-4003-9aa6-10511d3ee27b",
   "metadata": {},
   "outputs": [],
   "source": [
    "connection_string = f\"postgresql+psycopg2://{SQL_USERNAME}:{SQL_PASSWORD}@{SQL_IP}:{PORT}/{DATABASE}\"\n",
    "engine = create_engine(connection_string)"
   ]
  },
  {
   "cell_type": "code",
   "execution_count": null,
   "id": "4a16f182-edb9-449a-9bd1-7078589247cd",
   "metadata": {},
   "outputs": [],
   "source": [
    "# explore and understand the data\n",
    "\n",
    "# Create the inspector and connect it to the engine\n",
    "inspector = inspect(engine)\n",
    "\n",
    "# Collect the names of tables within the database\n",
    "tables = inspector.get_table_names()\n",
    "\n",
    "# Using the inspector to print the column names within each table and its types\n",
    "for table in tables:\n",
    "    print(table)\n",
    "    columns = inspector.get_columns(table)\n",
    "    for column in columns:\n",
    "        print(column[\"name\"], column[\"type\"])\n",
    "        \n",
    "    print()"
   ]
  },
  {
   "cell_type": "code",
   "execution_count": null,
   "id": "d34cf72c-911b-4a9d-95fb-a9b6a7feb83b",
   "metadata": {},
   "outputs": [],
   "source": [
    "#sabina query"
   ]
  },
  {
   "cell_type": "code",
   "execution_count": null,
   "id": "a3c36a61-d7de-4204-ac3a-240d523f5a23",
   "metadata": {},
   "outputs": [],
   "source": [
    "#seven query"
   ]
  },
  {
   "cell_type": "code",
   "execution_count": null,
   "id": "8c9cb83e-018b-4b0b-b814-cdec47644a5b",
   "metadata": {},
   "outputs": [],
   "source": [
    "#hannah query"
   ]
  }
 ],
 "metadata": {
  "kernelspec": {
   "display_name": "Python 3 (ipykernel)",
   "language": "python",
   "name": "python3"
  },
  "language_info": {
   "codemirror_mode": {
    "name": "ipython",
    "version": 3
   },
   "file_extension": ".py",
   "mimetype": "text/x-python",
   "name": "python",
   "nbconvert_exporter": "python",
   "pygments_lexer": "ipython3",
   "version": "3.10.14"
  }
 },
 "nbformat": 4,
 "nbformat_minor": 5
}
