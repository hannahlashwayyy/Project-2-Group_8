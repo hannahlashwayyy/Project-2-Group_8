{
 "cells": [
  {
   "cell_type": "code",
   "execution_count": 7,
   "id": "d6d43879-ae44-4102-80e8-839a7c6e5459",
   "metadata": {},
   "outputs": [],
   "source": [
    "# for database connections\n",
    "import sqlalchemy\n",
    "from sqlalchemy import create_engine, inspect, text\n",
    "\n",
    "# data\n",
    "import pandas as pd\n",
    "import numpy as np\n",
    "\n",
    "# viz\n",
    "import seaborn as sns\n",
    "import matplotlib.pyplot as plt"
   ]
  },
  {
   "cell_type": "code",
   "execution_count": 8,
   "id": "4b9edc0f-c1f9-45c4-8081-a04a2e099286",
   "metadata": {},
   "outputs": [],
   "source": [
    "SQL_USERNAME = \"postgres\"\n",
    "SQL_PASSWORD = \"Ollie!0515\" # change this\n",
    "SQL_IP = \"localhost\"\n",
    "PORT = 5432\n",
    "DATABASE = \"Project_2_group_08\" # change this"
   ]
  },
  {
   "cell_type": "code",
   "execution_count": 9,
   "id": "ec557a32-6cc4-4c42-9eec-6fdfdc9563c0",
   "metadata": {},
   "outputs": [],
   "source": [
    "connection_string = f\"postgresql+psycopg2://{SQL_USERNAME}:{SQL_PASSWORD}@{SQL_IP}:{PORT}/{DATABASE}\"\n",
    "engine = create_engine(connection_string)"
   ]
  },
  {
   "cell_type": "code",
   "execution_count": null,
   "id": "ff46101f-dd69-4aa4-8340-d48e8e412a1d",
   "metadata": {},
   "outputs": [],
   "source": [
    "# explore and understand the data\n",
    "\n",
    "# Create the inspector and connect it to the engine\n",
    "inspector = inspect(engine)\n",
    "\n",
    "# Collect the names of tables within the database\n",
    "tables = inspector.get_table_names()\n",
    "\n",
    "# Using the inspector to print the column names within each table and its types\n",
    "for table in tables:\n",
    "    print(table)\n",
    "    columns = inspector.get_columns(table)\n",
    "    for column in columns:\n",
    "        print(column[\"name\"], column[\"type\"])\n",
    "        \n",
    "    print()"
   ]
  },
  {
   "cell_type": "code",
   "execution_count": null,
   "id": "3371cfdf-3594-40e7-b104-4164aa8f4b3e",
   "metadata": {},
   "outputs": [],
   "source": [
    "#cells 5-7 importing 'category' csv\n",
    "df = pd.read_csv(\"Resources/category.csv\")\n",
    "df.head()"
   ]
  },
  {
   "cell_type": "code",
   "execution_count": null,
   "id": "3f1c2a77-6dba-4ae4-9a48-02dcd5437d8c",
   "metadata": {},
   "outputs": [],
   "source": [
    "df.columns = [x.lower() for x in df.columns]\n",
    "df.head()"
   ]
  },
  {
   "cell_type": "code",
   "execution_count": null,
   "id": "22f6e4c6-7693-41e3-b23e-bcb1b3ae36ea",
   "metadata": {},
   "outputs": [],
   "source": [
    "df.to_sql(\"category\", schema=\"public\", con=engine, index=False, if_exists=\"append\", method=\"multi\")"
   ]
  },
  {
   "cell_type": "code",
   "execution_count": null,
   "id": "0ba9cf5d-188d-493b-bed4-8a20aee1cbd6",
   "metadata": {},
   "outputs": [],
   "source": [
    "#cells 8-10 importing 'subcategory' csv\n",
    "df = pd.read_csv(\"Resources/subcategory.csv\")\n",
    "df.head()"
   ]
  },
  {
   "cell_type": "code",
   "execution_count": null,
   "id": "b11301f8-961a-455a-a905-87fe15d12a66",
   "metadata": {
    "scrolled": true
   },
   "outputs": [],
   "source": [
    "df.columns = [x.lower() for x in df.columns]\n",
    "df.head()"
   ]
  },
  {
   "cell_type": "code",
   "execution_count": null,
   "id": "9265914c-c9ba-4e54-b72f-e7f1d8d14be5",
   "metadata": {},
   "outputs": [],
   "source": [
    "df.to_sql(\"subcategory\", schema=\"public\", con=engine, index=False, if_exists=\"append\", method=\"multi\")"
   ]
  },
  {
   "cell_type": "code",
   "execution_count": null,
   "id": "dd1f2692-72fd-4cb2-87c5-a031352ccb0b",
   "metadata": {},
   "outputs": [],
   "source": [
    "#cells 11-13 importing 'contacts' csv\n",
    "df = pd.read_csv(\"Resources/contacts.csv\")\n",
    "df.head()"
   ]
  },
  {
   "cell_type": "code",
   "execution_count": null,
   "id": "f4c9eee2-e6e0-4010-969f-2bd6d95ef490",
   "metadata": {},
   "outputs": [],
   "source": [
    "df.columns = [x.lower() for x in df.columns]\n",
    "df.head()"
   ]
  },
  {
   "cell_type": "code",
   "execution_count": null,
   "id": "b94f1d58-6774-4613-a99b-98a513028daf",
   "metadata": {},
   "outputs": [],
   "source": [
    "df.to_sql(\"contacts\", schema=\"public\", con=engine, index=False, if_exists=\"append\", method=\"multi\")"
   ]
  },
  {
   "cell_type": "code",
   "execution_count": null,
   "id": "651b4245-93dc-4337-85ee-bb6764d387dd",
   "metadata": {},
   "outputs": [],
   "source": [
    "#cells 14-16 importing 'campaign' csv\n",
    "df = pd.read_csv(\"Resources/campaign.csv\")\n",
    "df.head()"
   ]
  },
  {
   "cell_type": "code",
   "execution_count": null,
   "id": "f53bbe63-7975-44b9-a30a-b74cae9945fd",
   "metadata": {},
   "outputs": [],
   "source": [
    "df.columns = [x.lower() for x in df.columns]\n",
    "df.head()"
   ]
  },
  {
   "cell_type": "code",
   "execution_count": null,
   "id": "3f970907-80b7-4ea3-9050-525be13018e4",
   "metadata": {},
   "outputs": [],
   "source": [
    "df.to_sql(\"campaign\", schema=\"public\", con=engine, index=False, if_exists=\"append\", method=\"multi\")"
   ]
  },
  {
   "cell_type": "code",
   "execution_count": null,
   "id": "8ce717b1-1eb4-477c-9fad-172cf857e5f0",
   "metadata": {},
   "outputs": [],
   "source": []
  },
  {
   "cell_type": "code",
   "execution_count": null,
   "id": "7c4f72b4-7b6a-4f28-a51d-d7500db42c07",
   "metadata": {},
   "outputs": [],
   "source": []
  },
  {
   "cell_type": "code",
   "execution_count": null,
   "id": "097743db-9e36-41c7-9567-5365a48d48c5",
   "metadata": {},
   "outputs": [],
   "source": []
  }
 ],
 "metadata": {
  "kernelspec": {
   "display_name": "Python 3 (ipykernel)",
   "language": "python",
   "name": "python3"
  },
  "language_info": {
   "codemirror_mode": {
    "name": "ipython",
    "version": 3
   },
   "file_extension": ".py",
   "mimetype": "text/x-python",
   "name": "python",
   "nbconvert_exporter": "python",
   "pygments_lexer": "ipython3",
   "version": "3.10.14"
  }
 },
 "nbformat": 4,
 "nbformat_minor": 5
}
